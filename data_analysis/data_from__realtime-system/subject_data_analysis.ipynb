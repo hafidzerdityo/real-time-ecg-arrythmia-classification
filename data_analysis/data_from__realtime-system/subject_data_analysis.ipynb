{
 "cells": [
  {
   "cell_type": "code",
   "execution_count": 1,
   "metadata": {},
   "outputs": [],
   "source": [
    "import matplotlib.pyplot as plt\n",
    "from sklearn.neural_network import MLPClassifier\n",
    "from sklearn.model_selection import train_test_split\n",
    "from sklearn.metrics import classification_report\n",
    "from sklearn.metrics import confusion_matrix\n",
    "import pandas as pd\n",
    "import numpy as np"
   ]
  },
  {
   "cell_type": "code",
   "execution_count": 2,
   "metadata": {},
   "outputs": [
    {
     "data": {
      "text/html": [
       "<div>\n",
       "<style scoped>\n",
       "    .dataframe tbody tr th:only-of-type {\n",
       "        vertical-align: middle;\n",
       "    }\n",
       "\n",
       "    .dataframe tbody tr th {\n",
       "        vertical-align: top;\n",
       "    }\n",
       "\n",
       "    .dataframe thead th {\n",
       "        text-align: right;\n",
       "    }\n",
       "</style>\n",
       "<table border=\"1\" class=\"dataframe\">\n",
       "  <thead>\n",
       "    <tr style=\"text-align: right;\">\n",
       "      <th></th>\n",
       "      <th>Subjek ke</th>\n",
       "      <th>MHR</th>\n",
       "      <th>SDNN</th>\n",
       "      <th>PNN50</th>\n",
       "      <th>RMSSD</th>\n",
       "      <th>CLASS</th>\n",
       "    </tr>\n",
       "  </thead>\n",
       "  <tbody>\n",
       "    <tr>\n",
       "      <th>0</th>\n",
       "      <td>1</td>\n",
       "      <td>94.11</td>\n",
       "      <td>0.03</td>\n",
       "      <td>3.66</td>\n",
       "      <td>0.02</td>\n",
       "      <td>NSR</td>\n",
       "    </tr>\n",
       "    <tr>\n",
       "      <th>1</th>\n",
       "      <td>2</td>\n",
       "      <td>93.12</td>\n",
       "      <td>0.06</td>\n",
       "      <td>55.56</td>\n",
       "      <td>0.07</td>\n",
       "      <td>Ar</td>\n",
       "    </tr>\n",
       "    <tr>\n",
       "      <th>2</th>\n",
       "      <td>3</td>\n",
       "      <td>119.15</td>\n",
       "      <td>0.03</td>\n",
       "      <td>1.92</td>\n",
       "      <td>0.01</td>\n",
       "      <td>NSR</td>\n",
       "    </tr>\n",
       "    <tr>\n",
       "      <th>3</th>\n",
       "      <td>4</td>\n",
       "      <td>102.62</td>\n",
       "      <td>0.03</td>\n",
       "      <td>1.11</td>\n",
       "      <td>0.02</td>\n",
       "      <td>NSR</td>\n",
       "    </tr>\n",
       "    <tr>\n",
       "      <th>4</th>\n",
       "      <td>5</td>\n",
       "      <td>115.96</td>\n",
       "      <td>0.08</td>\n",
       "      <td>10.68</td>\n",
       "      <td>0.08</td>\n",
       "      <td>NSR</td>\n",
       "    </tr>\n",
       "    <tr>\n",
       "      <th>5</th>\n",
       "      <td>6</td>\n",
       "      <td>86.99</td>\n",
       "      <td>0.05</td>\n",
       "      <td>11.69</td>\n",
       "      <td>0.04</td>\n",
       "      <td>NSR</td>\n",
       "    </tr>\n",
       "    <tr>\n",
       "      <th>6</th>\n",
       "      <td>7</td>\n",
       "      <td>91.63</td>\n",
       "      <td>0.04</td>\n",
       "      <td>23.46</td>\n",
       "      <td>0.04</td>\n",
       "      <td>NSR</td>\n",
       "    </tr>\n",
       "    <tr>\n",
       "      <th>7</th>\n",
       "      <td>8</td>\n",
       "      <td>83.60</td>\n",
       "      <td>0.08</td>\n",
       "      <td>39.73</td>\n",
       "      <td>0.05</td>\n",
       "      <td>Ar</td>\n",
       "    </tr>\n",
       "    <tr>\n",
       "      <th>8</th>\n",
       "      <td>9</td>\n",
       "      <td>120.63</td>\n",
       "      <td>0.02</td>\n",
       "      <td>1.87</td>\n",
       "      <td>0.02</td>\n",
       "      <td>NSR</td>\n",
       "    </tr>\n",
       "    <tr>\n",
       "      <th>9</th>\n",
       "      <td>10</td>\n",
       "      <td>97.58</td>\n",
       "      <td>0.04</td>\n",
       "      <td>1.16</td>\n",
       "      <td>0.02</td>\n",
       "      <td>NSR</td>\n",
       "    </tr>\n",
       "  </tbody>\n",
       "</table>\n",
       "</div>"
      ],
      "text/plain": [
       "   Subjek ke     MHR  SDNN  PNN50  RMSSD CLASS\n",
       "0          1   94.11  0.03   3.66   0.02   NSR\n",
       "1          2   93.12  0.06  55.56   0.07    Ar\n",
       "2          3  119.15  0.03   1.92   0.01   NSR\n",
       "3          4  102.62  0.03   1.11   0.02   NSR\n",
       "4          5  115.96  0.08  10.68   0.08   NSR\n",
       "5          6   86.99  0.05  11.69   0.04   NSR\n",
       "6          7   91.63  0.04  23.46   0.04   NSR\n",
       "7          8   83.60  0.08  39.73   0.05    Ar\n",
       "8          9  120.63  0.02   1.87   0.02   NSR\n",
       "9         10   97.58  0.04   1.16   0.02   NSR"
      ]
     },
     "execution_count": 2,
     "metadata": {},
     "output_type": "execute_result"
    }
   ],
   "source": [
    "datauji = pd.read_csv('extracted_subject_data.csv')\n",
    "datauji"
   ]
  },
  {
   "cell_type": "code",
   "execution_count": 3,
   "metadata": {},
   "outputs": [
    {
     "data": {
      "text/plain": [
       "<seaborn.axisgrid.FacetGrid at 0x1f42f133bb0>"
      ]
     },
     "execution_count": 3,
     "metadata": {},
     "output_type": "execute_result"
    },
    {
     "data": {
      "image/png": "[encoded data removed]",
      "text/plain": [
       "<Figure size 776.625x360 with 1 Axes>"
      ]
     },
     "metadata": {
      "needs_background": "light"
     },
     "output_type": "display_data"
    }
   ],
   "source": [
    "\n",
    "import seaborn as sns\n",
    "sns.lmplot(x ='PNN50', # Horizontal axis\n",
    "           y ='RMSSD', # Vertical axis\n",
    "           hue = 'CLASS',\n",
    "           data = datauji, # Data source\n",
    "           fit_reg = False, # Don't fix a regression line\n",
    "           aspect = 2 ) # size and dimension"
   ]
  },
  {
   "cell_type": "code",
   "execution_count": null,
   "metadata": {},
   "outputs": [],
   "source": []
  },
  {
   "cell_type": "code",
   "execution_count": null,
   "metadata": {},
   "outputs": [],
   "source": []
  }
 ],
 "metadata": {
  "kernelspec": {
   "display_name": "Python 3 (ipykernel)",
   "language": "python",
   "name": "python3"
  },
  "language_info": {
   "codemirror_mode": {
    "name": "ipython",
    "version": 3
   },
   "file_extension": ".py",
   "mimetype": "text/x-python",
   "name": "python",
   "nbconvert_exporter": "python",
   "pygments_lexer": "ipython3",
   "version": "3.10.1"
  }
 },
 "nbformat": 4,
 "nbformat_minor": 4
}
